{
 "cells": [
  {
   "cell_type": "markdown",
   "metadata": {},
   "source": [
    "## Ejercicio If, else asteroide"
   ]
  },
  {
   "cell_type": "code",
   "execution_count": 20,
   "metadata": {},
   "outputs": [
    {
     "name": "stdout",
     "output_type": "stream",
     "text": [
      "PRECAUCION, el asteroide en cuestion se acerca demasiado rapido al planeta, ALERTA MAXIMA!!!\n"
     ]
    }
   ],
   "source": [
    "# El asteroide peligroso\n",
    "VAs1 = 49 \n",
    "# VAs = Velocidad del asteroide que se acerca \n",
    "if VAs1 > 25:\n",
    "    print('PRECAUCION, el asteroide en cuestion se acerca demasiado rapido al planeta, ALERTA MAXIMA!!!')\n",
    "else:\n",
    "    print('No hay de que preocuparse, el asteroide en cuestion no representa un peligro')"
   ]
  },
  {
   "cell_type": "code",
   "execution_count": 22,
   "metadata": {},
   "outputs": [
    {
     "name": "stdout",
     "output_type": "stream",
     "text": [
      "Un asteroide pasara cerca de la orbita de la tierra pero no es seguro que sea visible\n"
     ]
    }
   ],
   "source": [
    "# El asteroide y su rayo de luz\n",
    "\n",
    "VAs2 = 19\n",
    "\n",
    "# VAs = velocidad del asteroide que se acerca\n",
    "\n",
    "if VAs2 >= 20:\n",
    "    print('Rapido, todo el mundo salga de casa, un asteroide se dirige a la tierra y se lograra ver un rayo de luz en el cielo')\n",
    "elif VAs2 == 20:\n",
    "    print('Rapido, todo el mundo salga y es posible que se produzca un rayo de luz')\n",
    "else :\n",
    "    print('Un asteroide pasara cerca de la orbita de la tierra pero no es seguro que sea visible')"
   ]
  },
  {
   "cell_type": "markdown",
   "metadata": {},
   "source": [
    "## Ejercicio and y or"
   ]
  },
  {
   "cell_type": "code",
   "execution_count": 30,
   "metadata": {},
   "outputs": [
    {
     "name": "stdout",
     "output_type": "stream",
     "text": [
      "WARTNING, el asteroide en cuestion va a una velocidad de  32 km/s y tiene una dimension de 55 metros, debe de mantenerse vigilado\n"
     ]
    }
   ],
   "source": [
    "# Velocidad del asteroide\n",
    "\n",
    "VelAs = 32\n",
    "\n",
    "# Tamanio del asteroide\n",
    "\n",
    "TamAl = 55\n",
    "\n",
    "if VelAs >= 20  and TamAl >= 25:\n",
    "    print('WARTNING, el asteroide en cuestion va a una velocidad de ', VelAs, 'km/s y tiene una dimension de', TamAl, 'metros, debe de mantenerse vigilado')\n",
    "elif TamAl == 25 or VelAs == 25:\n",
    "    print('El asteroide es grande y veloz pero podria ser peor, se mantendra monitoreado')\n",
    "elif VelAs == 25:\n",
    "    print('Un asteroide pasara cerca y producira un rayo de luz, sal a verlo')\n",
    "else:\n",
    "    print('El asteroide en cuestion no representa una amenaza')\n"
   ]
  }
 ],
 "metadata": {
  "interpreter": {
   "hash": "0f6005efb047ae344405d953d57b652be1f8bf70d42f60543672332bf95578ab"
  },
  "kernelspec": {
   "display_name": "Python 3.10.2 64-bit",
   "language": "python",
   "name": "python3"
  },
  "language_info": {
   "codemirror_mode": {
    "name": "ipython",
    "version": 3
   },
   "file_extension": ".py",
   "mimetype": "text/x-python",
   "name": "python",
   "nbconvert_exporter": "python",
   "pygments_lexer": "ipython3",
   "version": "3.10.2"
  },
  "orig_nbformat": 4
 },
 "nbformat": 4,
 "nbformat_minor": 2
}
