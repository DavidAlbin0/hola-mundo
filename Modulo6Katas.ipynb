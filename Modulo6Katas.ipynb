{
 "cells": [
  {
   "cell_type": "markdown",
   "metadata": {},
   "source": [
    "## Ejercicio 1: Listas y planetas"
   ]
  },
  {
   "cell_type": "code",
   "execution_count": 17,
   "metadata": {},
   "outputs": [
    {
     "name": "stdout",
     "output_type": "stream",
     "text": [
      "Actualmente tenemos 8 planetas\n"
     ]
    }
   ],
   "source": [
    "# Creamos la lista planets y la mostramos\n",
    "\n",
    "planets = ['Mercurio', 'Venus', 'Tierra', 'Marte', 'Jupiter', 'Saturno', 'Urano', 'Nepturno']\n",
    "print('Actualmente tenemos', len(planets), 'planetas')"
   ]
  },
  {
   "cell_type": "code",
   "execution_count": 21,
   "metadata": {},
   "outputs": [
    {
     "name": "stdout",
     "output_type": "stream",
     "text": [
      "Pero Pluton a veces es considerado el noveno planeta, tambien llamado planeta enano por ser el planeta mas pequenio desupes de Marte , incluso es mas pequenio que nuestra luna\n"
     ]
    }
   ],
   "source": [
    "#agregar al planeta enano\n",
    "planets.append('Pluton')\n",
    "print('Pero', planets[-1], 'a veces es considerado el noveno planeta, tambien llamado planeta enano por ser el planeta mas pequenio desupes de', planets[-9], ', incluso es mas pequenio que nuestra luna')\n"
   ]
  },
  {
   "cell_type": "markdown",
   "metadata": {},
   "source": [
    "## Ejercicio 2: Mas listas y mas planetas"
   ]
  },
  {
   "cell_type": "code",
   "execution_count": 3,
   "metadata": {},
   "outputs": [
    {
     "name": "stdout",
     "output_type": "stream",
     "text": [
      "['Mercury', 'Venus', 'Earth', 'Mars', 'jupiter', 'Saturn', 'Uranus', 'Neptune']\n"
     ]
    }
   ],
   "source": [
    "# Lista de planetas\n",
    "planetas = ['Mercury', 'Venus', 'Earth', 'Mars', 'jupiter', 'Saturn', 'Uranus', 'Neptune']\n",
    "print(planetas)"
   ]
  },
  {
   "cell_type": "code",
   "execution_count": 4,
   "metadata": {},
   "outputs": [],
   "source": [
    "# Solicitud de planeta\n",
    "planeta = (input(''))"
   ]
  },
  {
   "cell_type": "code",
   "execution_count": 5,
   "metadata": {},
   "outputs": [
    {
     "name": "stdout",
     "output_type": "stream",
     "text": [
      "El planeta que elejiste es el 3  en el sistema solar\n"
     ]
    }
   ],
   "source": [
    "#Buscamos el planeta en la lista\n",
    "planeta = planetas.index(planeta)\n",
    "print('El planeta que elejiste es el', planeta, ' en el sistema solar')\n"
   ]
  },
  {
   "cell_type": "code",
   "execution_count": 6,
   "metadata": {},
   "outputs": [
    {
     "name": "stdout",
     "output_type": "stream",
     "text": [
      "Si bien  3  es cercano al sol, pero Mercury  es el mas cercano al sol\n"
     ]
    }
   ],
   "source": [
    "#Planetas mas cercanos al sol\n",
    "print('Si bien ', planeta,' es cercano al sol, pero', planetas[0], ' es el mas cercano al sol')\n"
   ]
  },
  {
   "cell_type": "code",
   "execution_count": 7,
   "metadata": {},
   "outputs": [
    {
     "name": "stdout",
     "output_type": "stream",
     "text": [
      "Si bien 3  esta alejado del sol, Neptune  es el mas alejado del sol\n"
     ]
    }
   ],
   "source": [
    "#planeta mas alejado al sol\n",
    "print('Si bien ' + str(planeta), ' esta alejado del sol, '+ planetas[7], ' es el mas alejado del sol')\n"
   ]
  }
 ],
 "metadata": {
  "interpreter": {
   "hash": "fedcc50f283406cd0bf20fb7b46a2eb88379f9cca553bcd41f7af8ff024b2204"
  },
  "kernelspec": {
   "display_name": "Python 3.10.2 64-bit (windows store)",
   "language": "python",
   "name": "python3"
  },
  "language_info": {
   "codemirror_mode": {
    "name": "ipython",
    "version": 3
   },
   "file_extension": ".py",
   "mimetype": "text/x-python",
   "name": "python",
   "nbconvert_exporter": "python",
   "pygments_lexer": "ipython3",
   "version": "3.10.2"
  },
  "orig_nbformat": 4
 },
 "nbformat": 4,
 "nbformat_minor": 2
}
