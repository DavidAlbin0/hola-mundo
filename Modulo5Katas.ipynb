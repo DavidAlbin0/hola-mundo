{
 "cells": [
  {
   "cell_type": "markdown",
   "metadata": {},
   "source": [
    "## Ejercicio, Operadores aritmeticos"
   ]
  },
  {
   "cell_type": "code",
   "execution_count": 12,
   "metadata": {},
   "outputs": [],
   "source": [
    "#distancia de plaetas\n",
    "\n",
    "tierra = float('149597870')\n",
    "jupiter = float('778547200')"
   ]
  },
  {
   "cell_type": "code",
   "execution_count": 20,
   "metadata": {},
   "outputs": [
    {
     "name": "stdout",
     "output_type": "stream",
     "text": [
      "La distancia es\n",
      "628949330.0 km\n",
      "y\n",
      "1012195830.53952 millas\n"
     ]
    }
   ],
   "source": [
    "#distancia entre planetas\n",
    "title = 'La distancia es'\n",
    "print(title)\n",
    "\n",
    "calc_dist = tierra - jupiter\n",
    "print(abs(calc_dist), 'km')\n",
    "\n",
    "pd = 'y'\n",
    "print(pd)\n",
    "\n",
    "calc_mil = calc_dist * 1.609344\n",
    "print(abs(calc_mil), 'millas')\n"
   ]
  },
  {
   "cell_type": "markdown",
   "metadata": {},
   "source": [
    "## Ejercicio, Convertir cadenas en numeros usando absolutos"
   ]
  },
  {
   "cell_type": "code",
   "execution_count": 1,
   "metadata": {},
   "outputs": [],
   "source": [
    "#pidiendo datos\n",
    "Mercurio = input()\n",
    "Venus = input()\n"
   ]
  },
  {
   "cell_type": "code",
   "execution_count": 2,
   "metadata": {},
   "outputs": [],
   "source": [
    "#cambiando de texto a entero\n",
    "Mercurio = int(Mercurio)\n",
    "Venus = int(Venus)"
   ]
  },
  {
   "cell_type": "code",
   "execution_count": 4,
   "metadata": {},
   "outputs": [
    {
     "name": "stdout",
     "output_type": "stream",
     "text": [
      "La distancias es:\n",
      "50300000 km\n",
      "80950003.2 millas\n"
     ]
    }
   ],
   "source": [
    "#Distancias entre Mercurius y Vinus\n",
    "\n",
    "lit = 'La distancias es:'\n",
    "print(lit)\n",
    "\n",
    "dist = Mercurio - Venus\n",
    "print(abs(dist), 'km')\n",
    "\n",
    "distmil = dist * 1.609344\n",
    "print(abs(distmil), 'millas')"
   ]
  }
 ],
 "metadata": {
  "interpreter": {
   "hash": "fedcc50f283406cd0bf20fb7b46a2eb88379f9cca553bcd41f7af8ff024b2204"
  },
  "kernelspec": {
   "display_name": "Python 3.10.2 64-bit (windows store)",
   "language": "python",
   "name": "python3"
  },
  "language_info": {
   "codemirror_mode": {
    "name": "ipython",
    "version": 3
   },
   "file_extension": ".py",
   "mimetype": "text/x-python",
   "name": "python",
   "nbconvert_exporter": "python",
   "pygments_lexer": "ipython3",
   "version": "3.10.2"
  },
  "orig_nbformat": 4
 },
 "nbformat": 4,
 "nbformat_minor": 2
}
